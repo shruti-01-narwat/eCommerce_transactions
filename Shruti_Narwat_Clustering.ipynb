{
 "cells": [
  {
   "cell_type": "markdown",
   "id": "a30b3e71",
   "metadata": {
    "papermill": {
     "duration": 0.002863,
     "end_time": "2025-01-26T15:33:35.059608",
     "exception": false,
     "start_time": "2025-01-26T15:33:35.056745",
     "status": "completed"
    },
    "tags": []
   },
   "source": [
    "# TASK 3 : Customer Segmentation / Clustering"
   ]
  },
  {
   "cell_type": "markdown",
   "id": "16897b2e",
   "metadata": {
    "papermill": {
     "duration": 0.001981,
     "end_time": "2025-01-26T15:33:35.064722",
     "exception": false,
     "start_time": "2025-01-26T15:33:35.062741",
     "status": "completed"
    },
    "tags": []
   },
   "source": [
    "**Import necessary libraries**"
   ]
  },
  {
   "cell_type": "code",
   "execution_count": 1,
   "id": "757acc38",
   "metadata": {
    "execution": {
     "iopub.execute_input": "2025-01-26T15:33:35.070538Z",
     "iopub.status.busy": "2025-01-26T15:33:35.070145Z",
     "iopub.status.idle": "2025-01-26T15:33:39.077620Z",
     "shell.execute_reply": "2025-01-26T15:33:39.076701Z"
    },
    "papermill": {
     "duration": 4.012529,
     "end_time": "2025-01-26T15:33:39.079479",
     "exception": false,
     "start_time": "2025-01-26T15:33:35.066950",
     "status": "completed"
    },
    "tags": []
   },
   "outputs": [],
   "source": [
    "import pandas as pd\n",
    "import matplotlib.pyplot as plt\n",
    "import seaborn as sns\n",
    "from sklearn.preprocessing import StandardScaler\n",
    "from sklearn.cluster import KMeans\n",
    "from sklearn.metrics import davies_bouldin_score\n",
    "from sklearn.decomposition import PCA"
   ]
  },
  {
   "cell_type": "markdown",
   "id": "6dde04ff",
   "metadata": {
    "papermill": {
     "duration": 0.001996,
     "end_time": "2025-01-26T15:33:39.084032",
     "exception": false,
     "start_time": "2025-01-26T15:33:39.082036",
     "status": "completed"
    },
    "tags": []
   },
   "source": [
    "**File paths**"
   ]
  },
  {
   "cell_type": "code",
   "execution_count": 2,
   "id": "042ab1e5",
   "metadata": {
    "execution": {
     "iopub.execute_input": "2025-01-26T15:33:39.091179Z",
     "iopub.status.busy": "2025-01-26T15:33:39.090665Z",
     "iopub.status.idle": "2025-01-26T15:33:39.095091Z",
     "shell.execute_reply": "2025-01-26T15:33:39.093998Z"
    },
    "papermill": {
     "duration": 0.009593,
     "end_time": "2025-01-26T15:33:39.097126",
     "exception": false,
     "start_time": "2025-01-26T15:33:39.087533",
     "status": "completed"
    },
    "tags": []
   },
   "outputs": [],
   "source": [
    "customer_file = '/kaggle/input/dataset3/Customers.csv'\n",
    "product_file = '/kaggle/input/dataset3/Products.csv'\n",
    "transaction_file = '/kaggle/input/dataset3/Transactions.csv'"
   ]
  },
  {
   "cell_type": "markdown",
   "id": "083671be",
   "metadata": {
    "papermill": {
     "duration": 0.002098,
     "end_time": "2025-01-26T15:33:39.101828",
     "exception": false,
     "start_time": "2025-01-26T15:33:39.099730",
     "status": "completed"
    },
    "tags": []
   },
   "source": [
    "**Load datasets**"
   ]
  },
  {
   "cell_type": "code",
   "execution_count": 3,
   "id": "e81a4b95",
   "metadata": {
    "execution": {
     "iopub.execute_input": "2025-01-26T15:33:39.107681Z",
     "iopub.status.busy": "2025-01-26T15:33:39.107256Z",
     "iopub.status.idle": "2025-01-26T15:33:39.155938Z",
     "shell.execute_reply": "2025-01-26T15:33:39.154847Z"
    },
    "papermill": {
     "duration": 0.053805,
     "end_time": "2025-01-26T15:33:39.157887",
     "exception": false,
     "start_time": "2025-01-26T15:33:39.104082",
     "status": "completed"
    },
    "tags": []
   },
   "outputs": [],
   "source": [
    "customers = pd.read_csv(customer_file)\n",
    "products = pd.read_csv(product_file)\n",
    "transactions = pd.read_csv(transaction_file)"
   ]
  },
  {
   "cell_type": "markdown",
   "id": "95639589",
   "metadata": {
    "papermill": {
     "duration": 0.00221,
     "end_time": "2025-01-26T15:33:39.162755",
     "exception": false,
     "start_time": "2025-01-26T15:33:39.160545",
     "status": "completed"
    },
    "tags": []
   },
   "source": [
    "**Merge datasets**"
   ]
  },
  {
   "cell_type": "code",
   "execution_count": 4,
   "id": "12ac7ef3",
   "metadata": {
    "execution": {
     "iopub.execute_input": "2025-01-26T15:33:39.168591Z",
     "iopub.status.busy": "2025-01-26T15:33:39.168191Z",
     "iopub.status.idle": "2025-01-26T15:33:39.204048Z",
     "shell.execute_reply": "2025-01-26T15:33:39.202706Z"
    },
    "papermill": {
     "duration": 0.041473,
     "end_time": "2025-01-26T15:33:39.206587",
     "exception": false,
     "start_time": "2025-01-26T15:33:39.165114",
     "status": "completed"
    },
    "tags": []
   },
   "outputs": [],
   "source": [
    "merged_data = transactions.merge(customers, on='CustomerID').merge(products, on='ProductID')"
   ]
  }
 ],
 "metadata": {
  "kaggle": {
   "accelerator": "none",
   "dataSources": [
    {
     "datasetId": 6551181,
     "sourceId": 10585793,
     "sourceType": "datasetVersion"
    }
   ],
   "isGpuEnabled": false,
   "isInternetEnabled": true,
   "language": "python",
   "sourceType": "notebook"
  },
  "kernelspec": {
   "display_name": "Python 3",
   "language": "python",
   "name": "python3"
  },
  "language_info": {
   "codemirror_mode": {
    "name": "ipython",
    "version": 3
   },
   "file_extension": ".py",
   "mimetype": "text/x-python",
   "name": "python",
   "nbconvert_exporter": "python",
   "pygments_lexer": "ipython3",
   "version": "3.10.12"
  },
  "papermill": {
   "default_parameters": {},
   "duration": 7.807644,
   "end_time": "2025-01-26T15:33:39.931867",
   "environment_variables": {},
   "exception": null,
   "input_path": "__notebook__.ipynb",
   "output_path": "__notebook__.ipynb",
   "parameters": {},
   "start_time": "2025-01-26T15:33:32.124223",
   "version": "2.6.0"
  }
 },
 "nbformat": 4,
 "nbformat_minor": 5
}
