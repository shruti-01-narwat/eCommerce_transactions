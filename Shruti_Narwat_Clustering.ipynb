{
 "cells": [
  {
   "cell_type": "markdown",
   "id": "fe4cd86b",
   "metadata": {
    "papermill": {
     "duration": 0.003455,
     "end_time": "2025-01-26T15:36:20.432041",
     "exception": false,
     "start_time": "2025-01-26T15:36:20.428586",
     "status": "completed"
    },
    "tags": []
   },
   "source": [
    "# TASK 3 : Customer Segmentation / Clustering"
   ]
  },
  {
   "cell_type": "markdown",
   "id": "a5fb5e8f",
   "metadata": {
    "papermill": {
     "duration": 0.002555,
     "end_time": "2025-01-26T15:36:20.437822",
     "exception": false,
     "start_time": "2025-01-26T15:36:20.435267",
     "status": "completed"
    },
    "tags": []
   },
   "source": [
    "**Import necessary libraries**"
   ]
  },
  {
   "cell_type": "code",
   "execution_count": 1,
   "id": "5d3c64ce",
   "metadata": {
    "execution": {
     "iopub.execute_input": "2025-01-26T15:36:20.444948Z",
     "iopub.status.busy": "2025-01-26T15:36:20.444454Z",
     "iopub.status.idle": "2025-01-26T15:36:24.023350Z",
     "shell.execute_reply": "2025-01-26T15:36:24.019907Z"
    },
    "papermill": {
     "duration": 3.58783,
     "end_time": "2025-01-26T15:36:24.028376",
     "exception": false,
     "start_time": "2025-01-26T15:36:20.440546",
     "status": "completed"
    },
    "tags": []
   },
   "outputs": [],
   "source": [
    "import pandas as pd\n",
    "import matplotlib.pyplot as plt\n",
    "import seaborn as sns\n",
    "from sklearn.preprocessing import StandardScaler\n",
    "from sklearn.cluster import KMeans\n",
    "from sklearn.metrics import davies_bouldin_score\n",
    "from sklearn.decomposition import PCA"
   ]
  },
  {
   "cell_type": "markdown",
   "id": "e83e2bf1",
   "metadata": {
    "papermill": {
     "duration": 0.003568,
     "end_time": "2025-01-26T15:36:24.036380",
     "exception": false,
     "start_time": "2025-01-26T15:36:24.032812",
     "status": "completed"
    },
    "tags": []
   },
   "source": [
    "**File paths**"
   ]
  },
  {
   "cell_type": "code",
   "execution_count": 2,
   "id": "6d4f7f73",
   "metadata": {
    "execution": {
     "iopub.execute_input": "2025-01-26T15:36:24.043731Z",
     "iopub.status.busy": "2025-01-26T15:36:24.043238Z",
     "iopub.status.idle": "2025-01-26T15:36:24.047720Z",
     "shell.execute_reply": "2025-01-26T15:36:24.046670Z"
    },
    "papermill": {
     "duration": 0.010194,
     "end_time": "2025-01-26T15:36:24.049516",
     "exception": false,
     "start_time": "2025-01-26T15:36:24.039322",
     "status": "completed"
    },
    "tags": []
   },
   "outputs": [],
   "source": [
    "customer_file = '/kaggle/input/dataset3/Customers.csv'\n",
    "product_file = '/kaggle/input/dataset3/Products.csv'\n",
    "transaction_file = '/kaggle/input/dataset3/Transactions.csv'"
   ]
  },
  {
   "cell_type": "markdown",
   "id": "974d44cb",
   "metadata": {
    "papermill": {
     "duration": 0.002878,
     "end_time": "2025-01-26T15:36:24.055667",
     "exception": false,
     "start_time": "2025-01-26T15:36:24.052789",
     "status": "completed"
    },
    "tags": []
   },
   "source": [
    "**Load datasets**"
   ]
  },
  {
   "cell_type": "code",
   "execution_count": 3,
   "id": "13223a5e",
   "metadata": {
    "execution": {
     "iopub.execute_input": "2025-01-26T15:36:24.063224Z",
     "iopub.status.busy": "2025-01-26T15:36:24.062881Z",
     "iopub.status.idle": "2025-01-26T15:36:24.098768Z",
     "shell.execute_reply": "2025-01-26T15:36:24.097825Z"
    },
    "papermill": {
     "duration": 0.042006,
     "end_time": "2025-01-26T15:36:24.100827",
     "exception": false,
     "start_time": "2025-01-26T15:36:24.058821",
     "status": "completed"
    },
    "tags": []
   },
   "outputs": [],
   "source": [
    "customers = pd.read_csv(customer_file)\n",
    "products = pd.read_csv(product_file)\n",
    "transactions = pd.read_csv(transaction_file)"
   ]
  },
  {
   "cell_type": "markdown",
   "id": "7e9e113d",
   "metadata": {
    "papermill": {
     "duration": 0.002818,
     "end_time": "2025-01-26T15:36:24.106871",
     "exception": false,
     "start_time": "2025-01-26T15:36:24.104053",
     "status": "completed"
    },
    "tags": []
   },
   "source": [
    "**Merge datasets**"
   ]
  },
  {
   "cell_type": "code",
   "execution_count": 4,
   "id": "e4103b61",
   "metadata": {
    "execution": {
     "iopub.execute_input": "2025-01-26T15:36:24.114241Z",
     "iopub.status.busy": "2025-01-26T15:36:24.113903Z",
     "iopub.status.idle": "2025-01-26T15:36:24.150310Z",
     "shell.execute_reply": "2025-01-26T15:36:24.148934Z"
    },
    "papermill": {
     "duration": 0.042445,
     "end_time": "2025-01-26T15:36:24.152430",
     "exception": false,
     "start_time": "2025-01-26T15:36:24.109985",
     "status": "completed"
    },
    "tags": []
   },
   "outputs": [],
   "source": [
    "merged_data = transactions.merge(customers, on='CustomerID').merge(products, on='ProductID')"
   ]
  },
  {
   "cell_type": "markdown",
   "id": "0a8c53d9",
   "metadata": {
    "papermill": {
     "duration": 0.002866,
     "end_time": "2025-01-26T15:36:24.158657",
     "exception": false,
     "start_time": "2025-01-26T15:36:24.155791",
     "status": "completed"
    },
    "tags": []
   },
   "source": [
    "**Feature engineering for clustering**"
   ]
  },
  {
   "cell_type": "code",
   "execution_count": 5,
   "id": "334e8741",
   "metadata": {
    "execution": {
     "iopub.execute_input": "2025-01-26T15:36:24.166601Z",
     "iopub.status.busy": "2025-01-26T15:36:24.166107Z",
     "iopub.status.idle": "2025-01-26T15:36:24.185030Z",
     "shell.execute_reply": "2025-01-26T15:36:24.183799Z"
    },
    "papermill": {
     "duration": 0.025304,
     "end_time": "2025-01-26T15:36:24.187184",
     "exception": false,
     "start_time": "2025-01-26T15:36:24.161880",
     "status": "completed"
    },
    "tags": []
   },
   "outputs": [],
   "source": [
    "agg_dict = {\n",
    "    'Price': 'mean' if 'Price' in merged_data.columns else None,\n",
    "    'Quantity': 'sum' if 'Quantity' in merged_data.columns else None,\n",
    "    'TotalValue': 'sum' if 'TotalValue' in merged_data.columns else None,\n",
    "}\n",
    "agg_dict = {key: value for key, value in agg_dict.items() if value}\n",
    "\n",
    "if not agg_dict:\n",
    "    raise ValueError(\"No valid columns available for clustering.\")\n",
    "\n",
    "customer_features = merged_data.groupby('CustomerID').agg(agg_dict).reset_index()"
   ]
  },
  {
   "cell_type": "markdown",
   "id": "c76a2bc9",
   "metadata": {
    "papermill": {
     "duration": 0.002966,
     "end_time": "2025-01-26T15:36:24.193587",
     "exception": false,
     "start_time": "2025-01-26T15:36:24.190621",
     "status": "completed"
    },
    "tags": []
   },
   "source": [
    "**Ensure 'CustomerID' is in customer_features**"
   ]
  },
  {
   "cell_type": "code",
   "execution_count": 6,
   "id": "32bc3c29",
   "metadata": {
    "execution": {
     "iopub.execute_input": "2025-01-26T15:36:24.201385Z",
     "iopub.status.busy": "2025-01-26T15:36:24.200904Z",
     "iopub.status.idle": "2025-01-26T15:36:24.206300Z",
     "shell.execute_reply": "2025-01-26T15:36:24.205028Z"
    },
    "papermill": {
     "duration": 0.011339,
     "end_time": "2025-01-26T15:36:24.208051",
     "exception": false,
     "start_time": "2025-01-26T15:36:24.196712",
     "status": "completed"
    },
    "tags": []
   },
   "outputs": [],
   "source": [
    "if 'CustomerID' not in customer_features.columns:\n",
    "    raise KeyError(\"'CustomerID' column is missing in customer_features.\")"
   ]
  },
  {
   "cell_type": "markdown",
   "id": "79899a35",
   "metadata": {
    "papermill": {
     "duration": 0.003042,
     "end_time": "2025-01-26T15:36:24.214674",
     "exception": false,
     "start_time": "2025-01-26T15:36:24.211632",
     "status": "completed"
    },
    "tags": []
   },
   "source": [
    "**One-hot encode categorical variables (e.g., Region, Category)**"
   ]
  },
  {
   "cell_type": "code",
   "execution_count": 7,
   "id": "26ad2622",
   "metadata": {
    "execution": {
     "iopub.execute_input": "2025-01-26T15:36:24.222421Z",
     "iopub.status.busy": "2025-01-26T15:36:24.222044Z",
     "iopub.status.idle": "2025-01-26T15:36:24.234931Z",
     "shell.execute_reply": "2025-01-26T15:36:24.233863Z"
    },
    "papermill": {
     "duration": 0.018991,
     "end_time": "2025-01-26T15:36:24.236867",
     "exception": false,
     "start_time": "2025-01-26T15:36:24.217876",
     "status": "completed"
    },
    "tags": []
   },
   "outputs": [],
   "source": [
    "if 'Region' in customers.columns:\n",
    "    customers = pd.get_dummies(customers, columns=['Region'], prefix='Region')\n",
    "if 'Category' in products.columns:\n",
    "    merged_data = pd.get_dummies(merged_data, columns=['Category'], prefix='Category')"
   ]
  }
 ],
 "metadata": {
  "kaggle": {
   "accelerator": "none",
   "dataSources": [
    {
     "datasetId": 6551181,
     "sourceId": 10585793,
     "sourceType": "datasetVersion"
    }
   ],
   "isGpuEnabled": false,
   "isInternetEnabled": true,
   "language": "python",
   "sourceType": "notebook"
  },
  "kernelspec": {
   "display_name": "Python 3",
   "language": "python",
   "name": "python3"
  },
  "language_info": {
   "codemirror_mode": {
    "name": "ipython",
    "version": 3
   },
   "file_extension": ".py",
   "mimetype": "text/x-python",
   "name": "python",
   "nbconvert_exporter": "python",
   "pygments_lexer": "ipython3",
   "version": "3.10.12"
  },
  "papermill": {
   "default_parameters": {},
   "duration": 7.544935,
   "end_time": "2025-01-26T15:36:25.063529",
   "environment_variables": {},
   "exception": null,
   "input_path": "__notebook__.ipynb",
   "output_path": "__notebook__.ipynb",
   "parameters": {},
   "start_time": "2025-01-26T15:36:17.518594",
   "version": "2.6.0"
  }
 },
 "nbformat": 4,
 "nbformat_minor": 5
}
