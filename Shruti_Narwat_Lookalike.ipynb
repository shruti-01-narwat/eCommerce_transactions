{
 "cells": [
  {
   "cell_type": "markdown",
   "id": "29dc428c",
   "metadata": {
    "papermill": {
     "duration": 0.006126,
     "end_time": "2025-01-26T15:24:16.642277",
     "exception": false,
     "start_time": "2025-01-26T15:24:16.636151",
     "status": "completed"
    },
    "tags": []
   },
   "source": [
    "# Task 2: Lookalike Model"
   ]
  },
  {
   "cell_type": "markdown",
   "id": "af222862",
   "metadata": {
    "papermill": {
     "duration": 0.004064,
     "end_time": "2025-01-26T15:24:16.651456",
     "exception": false,
     "start_time": "2025-01-26T15:24:16.647392",
     "status": "completed"
    },
    "tags": []
   },
   "source": [
    "**Import necessary libraries**"
   ]
  },
  {
   "cell_type": "code",
   "execution_count": 1,
   "id": "304f12b3",
   "metadata": {
    "execution": {
     "iopub.execute_input": "2025-01-26T15:24:16.661153Z",
     "iopub.status.busy": "2025-01-26T15:24:16.660797Z",
     "iopub.status.idle": "2025-01-26T15:24:18.734915Z",
     "shell.execute_reply": "2025-01-26T15:24:18.733949Z"
    },
    "papermill": {
     "duration": 2.080887,
     "end_time": "2025-01-26T15:24:18.736632",
     "exception": false,
     "start_time": "2025-01-26T15:24:16.655745",
     "status": "completed"
    },
    "tags": []
   },
   "outputs": [],
   "source": [
    "import pandas as pd\n",
    "from sklearn.metrics.pairwise import cosine_similarity\n",
    "from sklearn.preprocessing import StandardScaler"
   ]
  },
  {
   "cell_type": "markdown",
   "id": "a269ce82",
   "metadata": {
    "papermill": {
     "duration": 0.004396,
     "end_time": "2025-01-26T15:24:18.745589",
     "exception": false,
     "start_time": "2025-01-26T15:24:18.741193",
     "status": "completed"
    },
    "tags": []
   },
   "source": [
    "**File paths**"
   ]
  },
  {
   "cell_type": "code",
   "execution_count": 2,
   "id": "333ccd73",
   "metadata": {
    "execution": {
     "iopub.execute_input": "2025-01-26T15:24:18.755414Z",
     "iopub.status.busy": "2025-01-26T15:24:18.754900Z",
     "iopub.status.idle": "2025-01-26T15:24:18.759005Z",
     "shell.execute_reply": "2025-01-26T15:24:18.758120Z"
    },
    "papermill": {
     "duration": 0.010818,
     "end_time": "2025-01-26T15:24:18.760695",
     "exception": false,
     "start_time": "2025-01-26T15:24:18.749877",
     "status": "completed"
    },
    "tags": []
   },
   "outputs": [],
   "source": [
    "customer_file = '/kaggle/input/dataset3/Customers.csv'\n",
    "product_file = '/kaggle/input/dataset3/Products.csv'\n",
    "transaction_file = '/kaggle/input/dataset3/Transactions.csv'"
   ]
  },
  {
   "cell_type": "markdown",
   "id": "f08989af",
   "metadata": {
    "papermill": {
     "duration": 0.003952,
     "end_time": "2025-01-26T15:24:18.769225",
     "exception": false,
     "start_time": "2025-01-26T15:24:18.765273",
     "status": "completed"
    },
    "tags": []
   },
   "source": [
    "**Load the datasets**"
   ]
  },
  {
   "cell_type": "code",
   "execution_count": 3,
   "id": "9de7900d",
   "metadata": {
    "execution": {
     "iopub.execute_input": "2025-01-26T15:24:18.778749Z",
     "iopub.status.busy": "2025-01-26T15:24:18.778443Z",
     "iopub.status.idle": "2025-01-26T15:24:18.811311Z",
     "shell.execute_reply": "2025-01-26T15:24:18.810315Z"
    },
    "papermill": {
     "duration": 0.039991,
     "end_time": "2025-01-26T15:24:18.813354",
     "exception": false,
     "start_time": "2025-01-26T15:24:18.773363",
     "status": "completed"
    },
    "tags": []
   },
   "outputs": [],
   "source": [
    "customers = pd.read_csv(customer_file)\n",
    "products = pd.read_csv(product_file)\n",
    "transactions = pd.read_csv(transaction_file)"
   ]
  },
  {
   "cell_type": "markdown",
   "id": "758e0240",
   "metadata": {
    "papermill": {
     "duration": 0.004106,
     "end_time": "2025-01-26T15:24:18.822225",
     "exception": false,
     "start_time": "2025-01-26T15:24:18.818119",
     "status": "completed"
    },
    "tags": []
   },
   "source": [
    "**Merge datasets**"
   ]
  },
  {
   "cell_type": "code",
   "execution_count": 4,
   "id": "c34f733d",
   "metadata": {
    "execution": {
     "iopub.execute_input": "2025-01-26T15:24:18.831986Z",
     "iopub.status.busy": "2025-01-26T15:24:18.831648Z",
     "iopub.status.idle": "2025-01-26T15:24:18.855748Z",
     "shell.execute_reply": "2025-01-26T15:24:18.854894Z"
    },
    "papermill": {
     "duration": 0.030923,
     "end_time": "2025-01-26T15:24:18.857475",
     "exception": false,
     "start_time": "2025-01-26T15:24:18.826552",
     "status": "completed"
    },
    "tags": []
   },
   "outputs": [],
   "source": [
    "merged_data = transactions.merge(customers, on='CustomerID').merge(products, on='ProductID')"
   ]
  },
  {
   "cell_type": "markdown",
   "id": "9cd9f7eb",
   "metadata": {
    "papermill": {
     "duration": 0.00414,
     "end_time": "2025-01-26T15:24:18.866221",
     "exception": false,
     "start_time": "2025-01-26T15:24:18.862081",
     "status": "completed"
    },
    "tags": []
   },
   "source": [
    "**Inspect the dataset structure**"
   ]
  },
  {
   "cell_type": "code",
   "execution_count": 5,
   "id": "203d6caf",
   "metadata": {
    "execution": {
     "iopub.execute_input": "2025-01-26T15:24:18.875858Z",
     "iopub.status.busy": "2025-01-26T15:24:18.875522Z",
     "iopub.status.idle": "2025-01-26T15:24:18.882613Z",
     "shell.execute_reply": "2025-01-26T15:24:18.881824Z"
    },
    "papermill": {
     "duration": 0.013587,
     "end_time": "2025-01-26T15:24:18.884028",
     "exception": false,
     "start_time": "2025-01-26T15:24:18.870441",
     "status": "completed"
    },
    "tags": []
   },
   "outputs": [
    {
     "name": "stdout",
     "output_type": "stream",
     "text": [
      "Customers.csv Columns: Index(['CustomerID', 'CustomerName', 'Region', 'SignupDate'], dtype='object')\n",
      "Products.csv Columns: Index(['ProductID', 'ProductName', 'Category', 'Price'], dtype='object')\n",
      "Transactions.csv Columns: Index(['TransactionID', 'CustomerID', 'ProductID', 'TransactionDate',\n",
      "       'Quantity', 'TotalValue', 'Price'],\n",
      "      dtype='object')\n",
      "Merged Data Columns: Index(['TransactionID', 'CustomerID', 'ProductID', 'TransactionDate',\n",
      "       'Quantity', 'TotalValue', 'Price_x', 'CustomerName', 'Region',\n",
      "       'SignupDate', 'ProductName', 'Category', 'Price_y'],\n",
      "      dtype='object')\n"
     ]
    }
   ],
   "source": [
    "print(\"Customers.csv Columns:\", customers.columns)\n",
    "print(\"Products.csv Columns:\", products.columns)\n",
    "print(\"Transactions.csv Columns:\", transactions.columns)\n",
    "print(\"Merged Data Columns:\", merged_data.columns)"
   ]
  },
  {
   "cell_type": "markdown",
   "id": "26116fcb",
   "metadata": {
    "papermill": {
     "duration": 0.004445,
     "end_time": "2025-01-26T15:24:18.892876",
     "exception": false,
     "start_time": "2025-01-26T15:24:18.888431",
     "status": "completed"
    },
    "tags": []
   },
   "source": [
    "**Adjust feature engineering based on available columns**"
   ]
  },
  {
   "cell_type": "code",
   "execution_count": 6,
   "id": "975d108c",
   "metadata": {
    "execution": {
     "iopub.execute_input": "2025-01-26T15:24:18.902463Z",
     "iopub.status.busy": "2025-01-26T15:24:18.902159Z",
     "iopub.status.idle": "2025-01-26T15:24:18.907119Z",
     "shell.execute_reply": "2025-01-26T15:24:18.906304Z"
    },
    "papermill": {
     "duration": 0.011297,
     "end_time": "2025-01-26T15:24:18.908449",
     "exception": false,
     "start_time": "2025-01-26T15:24:18.897152",
     "status": "completed"
    },
    "tags": []
   },
   "outputs": [],
   "source": [
    "agg_dict = {}\n",
    "if 'Price' in merged_data.columns:\n",
    "    agg_dict['Price'] = 'mean'\n",
    "if 'Quantity' in merged_data.columns:\n",
    "    agg_dict['Quantity'] = 'sum'\n",
    "if 'TotalValue' in merged_data.columns:\n",
    "    agg_dict['TotalValue'] = 'sum'\n",
    "if 'Category' in merged_data.columns:\n",
    "    agg_dict['Category'] = lambda x: x.value_counts().index[0]  # Most common category\n",
    "\n",
    "if not agg_dict:\n",
    "    raise ValueError(\"No valid columns available for aggregation.\")"
   ]
  },
  {
   "cell_type": "markdown",
   "id": "b4a77fa9",
   "metadata": {
    "papermill": {
     "duration": 0.004073,
     "end_time": "2025-01-26T15:24:18.916954",
     "exception": false,
     "start_time": "2025-01-26T15:24:18.912881",
     "status": "completed"
    },
    "tags": []
   },
   "source": [
    "**Aggregate transaction and product data for each customer**"
   ]
  },
  {
   "cell_type": "code",
   "execution_count": 7,
   "id": "0ae83215",
   "metadata": {
    "execution": {
     "iopub.execute_input": "2025-01-26T15:24:18.926621Z",
     "iopub.status.busy": "2025-01-26T15:24:18.926322Z",
     "iopub.status.idle": "2025-01-26T15:24:18.990135Z",
     "shell.execute_reply": "2025-01-26T15:24:18.989261Z"
    },
    "papermill": {
     "duration": 0.070562,
     "end_time": "2025-01-26T15:24:18.991898",
     "exception": false,
     "start_time": "2025-01-26T15:24:18.921336",
     "status": "completed"
    },
    "tags": []
   },
   "outputs": [],
   "source": [
    "customer_features = merged_data.groupby('CustomerID').agg(agg_dict).reset_index()"
   ]
  },
  {
   "cell_type": "markdown",
   "id": "e3aa465b",
   "metadata": {
    "papermill": {
     "duration": 0.004321,
     "end_time": "2025-01-26T15:24:19.001009",
     "exception": false,
     "start_time": "2025-01-26T15:24:18.996688",
     "status": "completed"
    },
    "tags": []
   },
   "source": [
    "**One-hot encode categorical features (e.g., Category)**"
   ]
  },
  {
   "cell_type": "code",
   "execution_count": 8,
   "id": "122eb74f",
   "metadata": {
    "execution": {
     "iopub.execute_input": "2025-01-26T15:24:19.011254Z",
     "iopub.status.busy": "2025-01-26T15:24:19.010883Z",
     "iopub.status.idle": "2025-01-26T15:24:19.018931Z",
     "shell.execute_reply": "2025-01-26T15:24:19.017946Z"
    },
    "papermill": {
     "duration": 0.015177,
     "end_time": "2025-01-26T15:24:19.020663",
     "exception": false,
     "start_time": "2025-01-26T15:24:19.005486",
     "status": "completed"
    },
    "tags": []
   },
   "outputs": [],
   "source": [
    "if 'Category' in customer_features.columns:\n",
    "    customer_features = pd.get_dummies(customer_features, columns=['Category'], prefix='Cat')"
   ]
  },
  {
   "cell_type": "markdown",
   "id": "afed346f",
   "metadata": {
    "papermill": {
     "duration": 0.00414,
     "end_time": "2025-01-26T15:24:19.029468",
     "exception": false,
     "start_time": "2025-01-26T15:24:19.025328",
     "status": "completed"
    },
    "tags": []
   },
   "source": [
    "**Scale the features for similarity computation**"
   ]
  },
  {
   "cell_type": "code",
   "execution_count": 9,
   "id": "a4939c0b",
   "metadata": {
    "execution": {
     "iopub.execute_input": "2025-01-26T15:24:19.039182Z",
     "iopub.status.busy": "2025-01-26T15:24:19.038827Z",
     "iopub.status.idle": "2025-01-26T15:24:19.048184Z",
     "shell.execute_reply": "2025-01-26T15:24:19.047378Z"
    },
    "papermill": {
     "duration": 0.015948,
     "end_time": "2025-01-26T15:24:19.049736",
     "exception": false,
     "start_time": "2025-01-26T15:24:19.033788",
     "status": "completed"
    },
    "tags": []
   },
   "outputs": [],
   "source": [
    "scaler = StandardScaler()\n",
    "scaled_features = scaler.fit_transform(customer_features.drop(['CustomerID'], axis=1))"
   ]
  },
  {
   "cell_type": "markdown",
   "id": "fa0e9cbf",
   "metadata": {
    "papermill": {
     "duration": 0.004094,
     "end_time": "2025-01-26T15:24:19.058507",
     "exception": false,
     "start_time": "2025-01-26T15:24:19.054413",
     "status": "completed"
    },
    "tags": []
   },
   "source": [
    "**Compute similarity scores using cosine similarity**"
   ]
  },
  {
   "cell_type": "code",
   "execution_count": 10,
   "id": "4b1bc13f",
   "metadata": {
    "execution": {
     "iopub.execute_input": "2025-01-26T15:24:19.068267Z",
     "iopub.status.busy": "2025-01-26T15:24:19.067920Z",
     "iopub.status.idle": "2025-01-26T15:24:19.080614Z",
     "shell.execute_reply": "2025-01-26T15:24:19.079759Z"
    },
    "papermill": {
     "duration": 0.019712,
     "end_time": "2025-01-26T15:24:19.082508",
     "exception": false,
     "start_time": "2025-01-26T15:24:19.062796",
     "status": "completed"
    },
    "tags": []
   },
   "outputs": [],
   "source": [
    "similarity_matrix = cosine_similarity(scaled_features)"
   ]
  },
  {
   "cell_type": "markdown",
   "id": "ca5b254a",
   "metadata": {
    "papermill": {
     "duration": 0.004394,
     "end_time": "2025-01-26T15:24:19.091767",
     "exception": false,
     "start_time": "2025-01-26T15:24:19.087373",
     "status": "completed"
    },
    "tags": []
   },
   "source": [
    "**Create the lookalike model output**"
   ]
  },
  {
   "cell_type": "code",
   "execution_count": 11,
   "id": "8af38a16",
   "metadata": {
    "execution": {
     "iopub.execute_input": "2025-01-26T15:24:19.101689Z",
     "iopub.status.busy": "2025-01-26T15:24:19.101344Z",
     "iopub.status.idle": "2025-01-26T15:24:19.162079Z",
     "shell.execute_reply": "2025-01-26T15:24:19.161257Z"
    },
    "papermill": {
     "duration": 0.067567,
     "end_time": "2025-01-26T15:24:19.163714",
     "exception": false,
     "start_time": "2025-01-26T15:24:19.096147",
     "status": "completed"
    },
    "tags": []
   },
   "outputs": [],
   "source": [
    "lookalike_map = {}\n",
    "for i, customer_id in enumerate(customer_features['CustomerID']):\n",
    "    similar_customers = list(enumerate(similarity_matrix[i]))\n",
    "    similar_customers = [(idx, score) for idx, score in similar_customers if idx != i]\n",
    "    similar_customers = sorted(similar_customers, key=lambda x: x[1], reverse=True)\n",
    "    top_3 = [(customer_features.iloc[idx]['CustomerID'], score) for idx, score in similar_customers[:3]]\n",
    "    lookalike_map[customer_id] = top_3"
   ]
  },
  {
   "cell_type": "markdown",
   "id": "de9617bb",
   "metadata": {
    "papermill": {
     "duration": 0.00419,
     "end_time": "2025-01-26T15:24:19.172617",
     "exception": false,
     "start_time": "2025-01-26T15:24:19.168427",
     "status": "completed"
    },
    "tags": []
   },
   "source": [
    "**Save the results to Lookalike.csv**"
   ]
  },
  {
   "cell_type": "code",
   "execution_count": 12,
   "id": "f560097a",
   "metadata": {
    "execution": {
     "iopub.execute_input": "2025-01-26T15:24:19.182519Z",
     "iopub.status.busy": "2025-01-26T15:24:19.182202Z",
     "iopub.status.idle": "2025-01-26T15:24:19.196143Z",
     "shell.execute_reply": "2025-01-26T15:24:19.194978Z"
    },
    "papermill": {
     "duration": 0.020805,
     "end_time": "2025-01-26T15:24:19.197854",
     "exception": false,
     "start_time": "2025-01-26T15:24:19.177049",
     "status": "completed"
    },
    "tags": []
   },
   "outputs": [
    {
     "name": "stdout",
     "output_type": "stream",
     "text": [
      "Lookalike model output saved as 'Shruti_Narwat_Lookalike.csv'.\n"
     ]
    }
   ],
   "source": [
    "lookalike_df = pd.DataFrame({\n",
    "    'CustomerID': lookalike_map.keys(),\n",
    "    'Lookalikes': [str(l) for l in lookalike_map.values()]\n",
    "})\n",
    "output_file = 'Shruti_Narwat_Lookalike.csv'\n",
    "lookalike_df.to_csv(output_file, index=False)\n",
    "\n",
    "print(f\"Lookalike model output saved as '{output_file}'.\")"
   ]
  }
 ],
 "metadata": {
  "kaggle": {
   "accelerator": "none",
   "dataSources": [
    {
     "datasetId": 6551181,
     "sourceId": 10585793,
     "sourceType": "datasetVersion"
    }
   ],
   "dockerImageVersionId": 30839,
   "isGpuEnabled": false,
   "isInternetEnabled": true,
   "language": "python",
   "sourceType": "notebook"
  },
  "kernelspec": {
   "display_name": "Python 3",
   "language": "python",
   "name": "python3"
  },
  "language_info": {
   "codemirror_mode": {
    "name": "ipython",
    "version": 3
   },
   "file_extension": ".py",
   "mimetype": "text/x-python",
   "name": "python",
   "nbconvert_exporter": "python",
   "pygments_lexer": "ipython3",
   "version": "3.10.12"
  },
  "papermill": {
   "default_parameters": {},
   "duration": 5.74383,
   "end_time": "2025-01-26T15:24:19.823338",
   "environment_variables": {},
   "exception": null,
   "input_path": "__notebook__.ipynb",
   "output_path": "__notebook__.ipynb",
   "parameters": {},
   "start_time": "2025-01-26T15:24:14.079508",
   "version": "2.6.0"
  }
 },
 "nbformat": 4,
 "nbformat_minor": 5
}
