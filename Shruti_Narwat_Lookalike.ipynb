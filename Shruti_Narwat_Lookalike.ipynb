{
 "cells": [
  {
   "cell_type": "markdown",
   "id": "f91fa26f",
   "metadata": {
    "papermill": {
     "duration": 0.003024,
     "end_time": "2025-01-26T15:07:15.129625",
     "exception": false,
     "start_time": "2025-01-26T15:07:15.126601",
     "status": "completed"
    },
    "tags": []
   },
   "source": [
    "# Task 2: Lookalike Model"
   ]
  },
  {
   "cell_type": "markdown",
   "id": "d75fe985",
   "metadata": {
    "papermill": {
     "duration": 0.002039,
     "end_time": "2025-01-26T15:07:15.134321",
     "exception": false,
     "start_time": "2025-01-26T15:07:15.132282",
     "status": "completed"
    },
    "tags": []
   },
   "source": [
    "**Import necessary libraries**"
   ]
  },
  {
   "cell_type": "code",
   "execution_count": 1,
   "id": "1724533d",
   "metadata": {
    "execution": {
     "iopub.execute_input": "2025-01-26T15:07:15.140471Z",
     "iopub.status.busy": "2025-01-26T15:07:15.140101Z",
     "iopub.status.idle": "2025-01-26T15:07:17.801250Z",
     "shell.execute_reply": "2025-01-26T15:07:17.800218Z"
    },
    "papermill": {
     "duration": 2.666462,
     "end_time": "2025-01-26T15:07:17.803333",
     "exception": false,
     "start_time": "2025-01-26T15:07:15.136871",
     "status": "completed"
    },
    "tags": []
   },
   "outputs": [],
   "source": [
    "import pandas as pd\n",
    "from sklearn.metrics.pairwise import cosine_similarity\n",
    "from sklearn.preprocessing import StandardScaler"
   ]
  },
  {
   "cell_type": "markdown",
   "id": "4e6510e0",
   "metadata": {
    "papermill": {
     "duration": 0.002064,
     "end_time": "2025-01-26T15:07:17.807998",
     "exception": false,
     "start_time": "2025-01-26T15:07:17.805934",
     "status": "completed"
    },
    "tags": []
   },
   "source": [
    "**File paths**"
   ]
  },
  {
   "cell_type": "code",
   "execution_count": 2,
   "id": "ca499449",
   "metadata": {
    "execution": {
     "iopub.execute_input": "2025-01-26T15:07:17.815144Z",
     "iopub.status.busy": "2025-01-26T15:07:17.814649Z",
     "iopub.status.idle": "2025-01-26T15:07:17.819764Z",
     "shell.execute_reply": "2025-01-26T15:07:17.818290Z"
    },
    "papermill": {
     "duration": 0.010418,
     "end_time": "2025-01-26T15:07:17.821921",
     "exception": false,
     "start_time": "2025-01-26T15:07:17.811503",
     "status": "completed"
    },
    "tags": []
   },
   "outputs": [],
   "source": [
    "customer_file = '/kaggle/input/dataset3/Customers.csv'\n",
    "product_file = '/kaggle/input/dataset3/Products.csv'\n",
    "transaction_file = '/kaggle/input/dataset3/Transactions.csv'"
   ]
  },
  {
   "cell_type": "markdown",
   "id": "0651ab84",
   "metadata": {
    "papermill": {
     "duration": 0.002037,
     "end_time": "2025-01-26T15:07:17.826562",
     "exception": false,
     "start_time": "2025-01-26T15:07:17.824525",
     "status": "completed"
    },
    "tags": []
   },
   "source": [
    "**Load the datasets**"
   ]
  },
  {
   "cell_type": "code",
   "execution_count": 3,
   "id": "69598ba8",
   "metadata": {
    "execution": {
     "iopub.execute_input": "2025-01-26T15:07:17.832412Z",
     "iopub.status.busy": "2025-01-26T15:07:17.832046Z",
     "iopub.status.idle": "2025-01-26T15:07:17.888685Z",
     "shell.execute_reply": "2025-01-26T15:07:17.887618Z"
    },
    "papermill": {
     "duration": 0.061707,
     "end_time": "2025-01-26T15:07:17.890577",
     "exception": false,
     "start_time": "2025-01-26T15:07:17.828870",
     "status": "completed"
    },
    "tags": []
   },
   "outputs": [],
   "source": [
    "customers = pd.read_csv(customer_file)\n",
    "products = pd.read_csv(product_file)\n",
    "transactions = pd.read_csv(transaction_file)"
   ]
  },
  {
   "cell_type": "markdown",
   "id": "7e13e0de",
   "metadata": {
    "papermill": {
     "duration": 0.002159,
     "end_time": "2025-01-26T15:07:17.895288",
     "exception": false,
     "start_time": "2025-01-26T15:07:17.893129",
     "status": "completed"
    },
    "tags": []
   },
   "source": [
    "**Merge datasets**"
   ]
  },
  {
   "cell_type": "code",
   "execution_count": 4,
   "id": "1a85fdea",
   "metadata": {
    "execution": {
     "iopub.execute_input": "2025-01-26T15:07:17.901083Z",
     "iopub.status.busy": "2025-01-26T15:07:17.900681Z",
     "iopub.status.idle": "2025-01-26T15:07:17.932011Z",
     "shell.execute_reply": "2025-01-26T15:07:17.930853Z"
    },
    "papermill": {
     "duration": 0.036408,
     "end_time": "2025-01-26T15:07:17.933944",
     "exception": false,
     "start_time": "2025-01-26T15:07:17.897536",
     "status": "completed"
    },
    "tags": []
   },
   "outputs": [],
   "source": [
    "merged_data = transactions.merge(customers, on='CustomerID').merge(products, on='ProductID')"
   ]
  }
 ],
 "metadata": {
  "kaggle": {
   "accelerator": "none",
   "dataSources": [
    {
     "datasetId": 6551181,
     "sourceId": 10585793,
     "sourceType": "datasetVersion"
    }
   ],
   "isGpuEnabled": false,
   "isInternetEnabled": true,
   "language": "python",
   "sourceType": "notebook"
  },
  "kernelspec": {
   "display_name": "Python 3",
   "language": "python",
   "name": "python3"
  },
  "language_info": {
   "codemirror_mode": {
    "name": "ipython",
    "version": 3
   },
   "file_extension": ".py",
   "mimetype": "text/x-python",
   "name": "python",
   "nbconvert_exporter": "python",
   "pygments_lexer": "ipython3",
   "version": "3.10.12"
  },
  "papermill": {
   "default_parameters": {},
   "duration": 6.438047,
   "end_time": "2025-01-26T15:07:18.658106",
   "environment_variables": {},
   "exception": null,
   "input_path": "__notebook__.ipynb",
   "output_path": "__notebook__.ipynb",
   "parameters": {},
   "start_time": "2025-01-26T15:07:12.220059",
   "version": "2.6.0"
  }
 },
 "nbformat": 4,
 "nbformat_minor": 5
}
